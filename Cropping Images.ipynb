{
 "cells": [
  {
   "cell_type": "code",
   "execution_count": 15,
   "id": "9bfbeb0d",
   "metadata": {},
   "outputs": [
    {
     "name": "stdout",
     "output_type": "stream",
     "text": [
      "(288, 432, 3)\n"
     ]
    }
   ],
   "source": [
    "import cv2\n",
    "import numpy as np\n",
    "\n",
    "img = cv2.imread('airfoils/kcwinglet-135/airfoil0.jpg')\n",
    "print(img.shape) # Print image shape\n",
    "cv2.imshow(\"original\", img)\n",
    "\n",
    "# Cropping an image\n",
    "cropped_image = img[0:20, 150:330]\n",
    "\n",
    "# Display cropped image\n",
    "cv2.imshow(\"cropped\", cropped_image)\n",
    "\n",
    "# Save the cropped image\n",
    "cv2.imwrite(\"Cropped Image.jpg\", cropped_image)\n",
    "\n",
    "cv2.waitKey(0)\n",
    "cv2.destroyAllWindows()"
   ]
  },
  {
   "cell_type": "code",
   "execution_count": 16,
   "id": "8726a7e9",
   "metadata": {},
   "outputs": [],
   "source": [
    "from PIL import Image\n",
    " \n",
    "# Opens a image in RGB mode\n",
    "im = Image.open(r\"airfoils/kcwinglet-135/airfoil0.jpg\")\n",
    " \n",
    "# Size of the image in pixels (size of original image)\n",
    "# (This is not mandatory)\n",
    "width, height = im.size"
   ]
  },
  {
   "cell_type": "code",
   "execution_count": 17,
   "id": "33c064e6",
   "metadata": {},
   "outputs": [
    {
     "data": {
      "text/plain": [
       "432"
      ]
     },
     "execution_count": 17,
     "metadata": {},
     "output_type": "execute_result"
    }
   ],
   "source": [
    "width"
   ]
  },
  {
   "cell_type": "code",
   "execution_count": 18,
   "id": "887b5b7d",
   "metadata": {},
   "outputs": [
    {
     "data": {
      "text/plain": [
       "288"
      ]
     },
     "execution_count": 18,
     "metadata": {},
     "output_type": "execute_result"
    }
   ],
   "source": [
    "height"
   ]
  },
  {
   "cell_type": "code",
   "execution_count": 26,
   "id": "a4c11207",
   "metadata": {},
   "outputs": [],
   "source": [
    "left = 5\n",
    "top = height / 4\n",
    "right = 420\n",
    "bottom = 4 * height / 4\n",
    " \n",
    "# Cropped image of above dimension\n",
    "# (It will not change original image)\n",
    "im1 = im.crop((left, top, right, bottom))\n",
    " \n",
    "# Shows the image in image viewer\n",
    "im1.show()"
   ]
  },
  {
   "cell_type": "code",
   "execution_count": 25,
   "id": "6e2a4a10",
   "metadata": {},
   "outputs": [
    {
     "data": {
      "text/plain": [
       "216.0"
      ]
     },
     "execution_count": 25,
     "metadata": {},
     "output_type": "execute_result"
    }
   ],
   "source": [
    "bottom"
   ]
  },
  {
   "cell_type": "code",
   "execution_count": null,
   "id": "a8f55f09",
   "metadata": {},
   "outputs": [],
   "source": []
  }
 ],
 "metadata": {
  "kernelspec": {
   "display_name": "Python 3",
   "language": "python",
   "name": "python3"
  },
  "language_info": {
   "codemirror_mode": {
    "name": "ipython",
    "version": 3
   },
   "file_extension": ".py",
   "mimetype": "text/x-python",
   "name": "python",
   "nbconvert_exporter": "python",
   "pygments_lexer": "ipython3",
   "version": "3.8.8"
  }
 },
 "nbformat": 4,
 "nbformat_minor": 5
}
