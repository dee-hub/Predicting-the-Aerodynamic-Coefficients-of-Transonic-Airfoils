{
 "cells": [
  {
   "cell_type": "code",
   "execution_count": 1,
   "id": "510edc4f",
   "metadata": {
    "scrolled": false
   },
   "outputs": [
    {
     "data": {
      "text/html": [
       "<div>\n",
       "<style scoped>\n",
       "    .dataframe tbody tr th:only-of-type {\n",
       "        vertical-align: middle;\n",
       "    }\n",
       "\n",
       "    .dataframe tbody tr th {\n",
       "        vertical-align: top;\n",
       "    }\n",
       "\n",
       "    .dataframe thead th {\n",
       "        text-align: right;\n",
       "    }\n",
       "</style>\n",
       "<table border=\"1\" class=\"dataframe\">\n",
       "  <thead>\n",
       "    <tr style=\"text-align: right;\">\n",
       "      <th></th>\n",
       "      <th>ID</th>\n",
       "      <th>Mach No</th>\n",
       "      <th>Angle of Attack</th>\n",
       "      <th>Lift Coefficient</th>\n",
       "    </tr>\n",
       "  </thead>\n",
       "  <tbody>\n",
       "    <tr>\n",
       "      <th>0</th>\n",
       "      <td>DP 0</td>\n",
       "      <td>0.7</td>\n",
       "      <td>1</td>\n",
       "      <td>0.28416</td>\n",
       "    </tr>\n",
       "    <tr>\n",
       "      <th>1</th>\n",
       "      <td>DP 1</td>\n",
       "      <td>0.72</td>\n",
       "      <td>1</td>\n",
       "      <td>0.29094595</td>\n",
       "    </tr>\n",
       "    <tr>\n",
       "      <th>2</th>\n",
       "      <td>DP 2</td>\n",
       "      <td>0.74</td>\n",
       "      <td>1</td>\n",
       "      <td>0.29952479</td>\n",
       "    </tr>\n",
       "    <tr>\n",
       "      <th>3</th>\n",
       "      <td>DP 3</td>\n",
       "      <td>0.76</td>\n",
       "      <td>1</td>\n",
       "      <td>0.31067285</td>\n",
       "    </tr>\n",
       "    <tr>\n",
       "      <th>4</th>\n",
       "      <td>DP 4</td>\n",
       "      <td>0.78</td>\n",
       "      <td>1</td>\n",
       "      <td>0.32391546</td>\n",
       "    </tr>\n",
       "    <tr>\n",
       "      <th>5</th>\n",
       "      <td>DP 5</td>\n",
       "      <td>0.8</td>\n",
       "      <td>1</td>\n",
       "      <td>0.32795635</td>\n",
       "    </tr>\n",
       "    <tr>\n",
       "      <th>6</th>\n",
       "      <td>DP 6</td>\n",
       "      <td>0.82</td>\n",
       "      <td>1</td>\n",
       "      <td>0.30313492</td>\n",
       "    </tr>\n",
       "    <tr>\n",
       "      <th>7</th>\n",
       "      <td>DP 7</td>\n",
       "      <td>0.84</td>\n",
       "      <td>1</td>\n",
       "      <td>0.2418303</td>\n",
       "    </tr>\n",
       "    <tr>\n",
       "      <th>8</th>\n",
       "      <td>DP 8</td>\n",
       "      <td>0.86</td>\n",
       "      <td>1</td>\n",
       "      <td>0.15180554</td>\n",
       "    </tr>\n",
       "    <tr>\n",
       "      <th>9</th>\n",
       "      <td>DP 9</td>\n",
       "      <td>0.88</td>\n",
       "      <td>1</td>\n",
       "      <td>0.075800985</td>\n",
       "    </tr>\n",
       "    <tr>\n",
       "      <th>10</th>\n",
       "      <td>DP 10</td>\n",
       "      <td>0.9</td>\n",
       "      <td>1</td>\n",
       "      <td>0.068339071</td>\n",
       "    </tr>\n",
       "    <tr>\n",
       "      <th>11</th>\n",
       "      <td>DP 11</td>\n",
       "      <td>0.92</td>\n",
       "      <td>1</td>\n",
       "      <td>0.081365385</td>\n",
       "    </tr>\n",
       "    <tr>\n",
       "      <th>12</th>\n",
       "      <td>DP 12</td>\n",
       "      <td>0.94</td>\n",
       "      <td>1</td>\n",
       "      <td>0.072899662</td>\n",
       "    </tr>\n",
       "    <tr>\n",
       "      <th>13</th>\n",
       "      <td>DP 13</td>\n",
       "      <td>0.96</td>\n",
       "      <td>1</td>\n",
       "      <td>0.069534194</td>\n",
       "    </tr>\n",
       "    <tr>\n",
       "      <th>14</th>\n",
       "      <td>DP 14</td>\n",
       "      <td>0.98</td>\n",
       "      <td>1</td>\n",
       "      <td>0.066996075</td>\n",
       "    </tr>\n",
       "    <tr>\n",
       "      <th>15</th>\n",
       "      <td>DP 15</td>\n",
       "      <td>1</td>\n",
       "      <td>1</td>\n",
       "      <td>NaN</td>\n",
       "    </tr>\n",
       "    <tr>\n",
       "      <th>16</th>\n",
       "      <td>DP 16</td>\n",
       "      <td>1.02</td>\n",
       "      <td>1</td>\n",
       "      <td>0.063346184</td>\n",
       "    </tr>\n",
       "    <tr>\n",
       "      <th>17</th>\n",
       "      <td>DP 17</td>\n",
       "      <td>1.04</td>\n",
       "      <td>1</td>\n",
       "      <td>0.061902686</td>\n",
       "    </tr>\n",
       "    <tr>\n",
       "      <th>18</th>\n",
       "      <td>DP 18</td>\n",
       "      <td>1.06</td>\n",
       "      <td>1</td>\n",
       "      <td>0.060635509</td>\n",
       "    </tr>\n",
       "    <tr>\n",
       "      <th>19</th>\n",
       "      <td>DP 19</td>\n",
       "      <td>1.08</td>\n",
       "      <td>1</td>\n",
       "      <td>0.059591251</td>\n",
       "    </tr>\n",
       "    <tr>\n",
       "      <th>20</th>\n",
       "      <td>DP 20</td>\n",
       "      <td>1.1</td>\n",
       "      <td>1</td>\n",
       "      <td>0.058838074</td>\n",
       "    </tr>\n",
       "    <tr>\n",
       "      <th>21</th>\n",
       "      <td>DP 21</td>\n",
       "      <td>1.12</td>\n",
       "      <td>1</td>\n",
       "      <td>0.058438115</td>\n",
       "    </tr>\n",
       "    <tr>\n",
       "      <th>22</th>\n",
       "      <td>DP 22</td>\n",
       "      <td>1.14</td>\n",
       "      <td>1</td>\n",
       "      <td>0.058616819</td>\n",
       "    </tr>\n",
       "    <tr>\n",
       "      <th>23</th>\n",
       "      <td>DP 23</td>\n",
       "      <td>1.16</td>\n",
       "      <td>1</td>\n",
       "      <td>0.059552082</td>\n",
       "    </tr>\n",
       "    <tr>\n",
       "      <th>24</th>\n",
       "      <td>DP 24</td>\n",
       "      <td>1.18</td>\n",
       "      <td>1</td>\n",
       "      <td>0.061046188</td>\n",
       "    </tr>\n",
       "    <tr>\n",
       "      <th>25</th>\n",
       "      <td>DP 25</td>\n",
       "      <td>1.2</td>\n",
       "      <td>1</td>\n",
       "      <td>0.062779971</td>\n",
       "    </tr>\n",
       "    <tr>\n",
       "      <th>26</th>\n",
       "      <td>DP 26</td>\n",
       "      <td>1.22</td>\n",
       "      <td>1</td>\n",
       "      <td>0.064839457</td>\n",
       "    </tr>\n",
       "    <tr>\n",
       "      <th>27</th>\n",
       "      <td>DP 27</td>\n",
       "      <td>1.24</td>\n",
       "      <td>1</td>\n",
       "      <td>0.066751224</td>\n",
       "    </tr>\n",
       "    <tr>\n",
       "      <th>28</th>\n",
       "      <td>DP 28</td>\n",
       "      <td>1.26</td>\n",
       "      <td>1</td>\n",
       "      <td>0.067466741</td>\n",
       "    </tr>\n",
       "    <tr>\n",
       "      <th>29</th>\n",
       "      <td>DP 29</td>\n",
       "      <td>1.28</td>\n",
       "      <td>1</td>\n",
       "      <td>0.065629634</td>\n",
       "    </tr>\n",
       "    <tr>\n",
       "      <th>30</th>\n",
       "      <td>DP 30</td>\n",
       "      <td>1.3</td>\n",
       "      <td>1</td>\n",
       "      <td>0.061756226</td>\n",
       "    </tr>\n",
       "    <tr>\n",
       "      <th>31</th>\n",
       "      <td>DP 31</td>\n",
       "      <td>1.32</td>\n",
       "      <td>1</td>\n",
       "      <td>0.058238158</td>\n",
       "    </tr>\n",
       "    <tr>\n",
       "      <th>32</th>\n",
       "      <td>DP 32</td>\n",
       "      <td>1.34</td>\n",
       "      <td>1</td>\n",
       "      <td>0.05622379</td>\n",
       "    </tr>\n",
       "    <tr>\n",
       "      <th>33</th>\n",
       "      <td>DP 33</td>\n",
       "      <td>1.36</td>\n",
       "      <td>1</td>\n",
       "      <td>0.054810673</td>\n",
       "    </tr>\n",
       "    <tr>\n",
       "      <th>34</th>\n",
       "      <td>DP 34</td>\n",
       "      <td>1.38</td>\n",
       "      <td>1</td>\n",
       "      <td>0.053473784</td>\n",
       "    </tr>\n",
       "    <tr>\n",
       "      <th>35</th>\n",
       "      <td>DP 35</td>\n",
       "      <td>1.4</td>\n",
       "      <td>1</td>\n",
       "      <td>0.052101032</td>\n",
       "    </tr>\n",
       "  </tbody>\n",
       "</table>\n",
       "</div>"
      ],
      "text/plain": [
       "       ID Mach No Angle of Attack Lift Coefficient\n",
       "0    DP 0     0.7               1          0.28416\n",
       "1    DP 1    0.72               1       0.29094595\n",
       "2    DP 2    0.74               1       0.29952479\n",
       "3    DP 3    0.76               1       0.31067285\n",
       "4    DP 4    0.78               1       0.32391546\n",
       "5    DP 5     0.8               1       0.32795635\n",
       "6    DP 6    0.82               1       0.30313492\n",
       "7    DP 7    0.84               1        0.2418303\n",
       "8    DP 8    0.86               1       0.15180554\n",
       "9    DP 9    0.88               1      0.075800985\n",
       "10  DP 10     0.9               1      0.068339071\n",
       "11  DP 11    0.92               1      0.081365385\n",
       "12  DP 12    0.94               1      0.072899662\n",
       "13  DP 13    0.96               1      0.069534194\n",
       "14  DP 14    0.98               1      0.066996075\n",
       "15  DP 15       1               1              NaN\n",
       "16  DP 16    1.02               1      0.063346184\n",
       "17  DP 17    1.04               1      0.061902686\n",
       "18  DP 18    1.06               1      0.060635509\n",
       "19  DP 19    1.08               1      0.059591251\n",
       "20  DP 20     1.1               1      0.058838074\n",
       "21  DP 21    1.12               1      0.058438115\n",
       "22  DP 22    1.14               1      0.058616819\n",
       "23  DP 23    1.16               1      0.059552082\n",
       "24  DP 24    1.18               1      0.061046188\n",
       "25  DP 25     1.2               1      0.062779971\n",
       "26  DP 26    1.22               1      0.064839457\n",
       "27  DP 27    1.24               1      0.066751224\n",
       "28  DP 28    1.26               1      0.067466741\n",
       "29  DP 29    1.28               1      0.065629634\n",
       "30  DP 30     1.3               1      0.061756226\n",
       "31  DP 31    1.32               1      0.058238158\n",
       "32  DP 32    1.34               1       0.05622379\n",
       "33  DP 33    1.36               1      0.054810673\n",
       "34  DP 34    1.38               1      0.053473784\n",
       "35  DP 35     1.4               1      0.052101032"
      ]
     },
     "execution_count": 1,
     "metadata": {},
     "output_type": "execute_result"
    }
   ],
   "source": [
    "import pandas as pd\n",
    "import os\n",
    "import numpy as np\n",
    "import argparse\n",
    "import locale\n",
    "import glob\n",
    "cols = [\"ID\", \"Mach No\", \"Angle of Attack\", \"Lift Coefficient\"]#, \"Drag Coefficient\"]\n",
    "a = pd.read_csv('airfoils/data/c5a-data/1deg.csv', sep=',', names=cols)\n",
    "data = a.drop(a.index[[0,1,2,3,4,5,6]])\n",
    "data.reset_index(drop=True)"
   ]
  },
  {
   "cell_type": "markdown",
   "id": "db43cae4",
   "metadata": {},
   "source": [
    "inputPath = 'airfoils/c5a/AOA'\n",
    "#-#a.drop()"
   ]
  },
  {
   "cell_type": "markdown",
   "id": "1ead64c2",
   "metadata": {},
   "source": [
    "import cv2\n",
    "def load_house_images(df, inputPath):\n",
    "    # initialize our images array (i.e., the house images themselves)\n",
    "    images = []\n",
    "    # loop over the indexes of the houses\n",
    "    directory = 'airfoils/c5a/AOA'\n",
    "    for filename in os.listdir(directory):\n",
    "        if filename.endswith(\".jpg\") or filename.endswith(\".png\"):\n",
    "            #print(os.path.join(directory, filename))\n",
    "            airfoil_paths = os.path.join(directory, filename)\n",
    "            housePaths = sorted(list(glob.glob(airfoil_paths)))\n",
    "            #print(housePaths)\n",
    "            image = cv2.imread(airfoil_paths)\n",
    "            image = cv2.resize(image, (32, 32))\n",
    "            images.append(image)\n",
    "    return np.array(images)\n",
    "    #for i in df.index.values:\n",
    "    # find the four images for the house and sort the file paths,\n",
    "        # ensuring the four are always in the *same order*\n",
    "     #   basePath = os.path.sep.join([inputPath, \"{}_*\".format(i + 1)])\n",
    "      #  housePaths = sorted(list(glob.glob(basePath)))\n",
    "# initialize our list of input images along with the output image\n",
    "        # after *combining* the four input images\n",
    "       # inputImages = []\n",
    "        #outputImage = np.zeros((64, 64, 3), dtype=\"uint8\")\n",
    "        # loop over the input house paths\n",
    "        #for housePath in housePaths:\n",
    "            # load the input image, resize it to be 32 32, and then\n",
    "            # update the list of input images\n",
    "         #   image = cv2.imread(housePaths)\n",
    "           # print(image)\n",
    "          #  image = cv2.resize(image, (32, 32))\n",
    "           # inputImages.append(image)\n",
    "            #images.append(outputImage)\n",
    "    # return our set of images\n",
    "    #return np.array(images)"
   ]
  },
  {
   "cell_type": "markdown",
   "id": "d93d6d05",
   "metadata": {},
   "source": [
    "load_house_images(load_house_attributes(data), inputPath)"
   ]
  },
  {
   "cell_type": "markdown",
   "id": "957223c4",
   "metadata": {},
   "source": [
    "def load_house_attributes(data):\n",
    "    # initialize the list of column names in the CSV file and then\n",
    "    # load it using Pandas\n",
    "    cols = [\"ID\", \"Mach No\", \"Angle of Attack\", \"Lift Coefficient\", \"Drag Coefficient\"]\n",
    "    df = pd.read_csv(data, sep=\",\", header=None, names=cols)\n",
    "    df = df.drop(df.index[[0,1,2,3,4,5,6]])\n",
    "    df = df.reset_index(drop=True)\n",
    "    df = pd.read_csv(inputPath, sep=\" \", header=None, names=cols)\n",
    "    return df"
   ]
  },
  {
   "cell_type": "markdown",
   "id": "72b782ea",
   "metadata": {},
   "source": [
    "inputPath = 'airfoils/c5a/AOA'\n",
    "data = 'airfoils/data/c5a-data/-1deg.csv'\n",
    "cols = [\"ID\", \"Mach No\", \"Angle of Attack\", \"Lift Coefficient\", \"Drag Coefficient\"]\n",
    "df = pd.read_csv(data, sep=\",\", header=None, names=cols)\n",
    "df = df.drop(df.index[[0,1,2,3,4,5,6]])\n",
    "df = df.reset_index(drop=True)\n",
    "load_house_images(df, inputPath)"
   ]
  },
  {
   "cell_type": "markdown",
   "id": "35ced015",
   "metadata": {},
   "source": [
    "df"
   ]
  },
  {
   "cell_type": "markdown",
   "id": "8be8d794",
   "metadata": {},
   "source": [
    "for i in df.index.values:\n",
    "    print(os.path.sep.join([inputPath, \"{}_*\".format(i + 1)]))"
   ]
  },
  {
   "cell_type": "markdown",
   "id": "eb237865",
   "metadata": {},
   "source": [
    "df.index.values"
   ]
  },
  {
   "cell_type": "markdown",
   "id": "0fa6b5d5",
   "metadata": {},
   "source": [
    "## C5A CSV"
   ]
  },
  {
   "cell_type": "code",
   "execution_count": 2,
   "id": "b5816360",
   "metadata": {},
   "outputs": [
    {
     "name": "stdout",
     "output_type": "stream",
     "text": [
      "['airfoils/data/c5a-data/1deg.csv', 'airfoils/data/c5a-data/2deg.csv', 'airfoils/data/c5a-data/-2deg.csv', 'airfoils/data/c5a-data/-9deg.csv', 'airfoils/data/c5a-data/-14deg.csv', 'airfoils/data/c5a-data/-15deg.csv', 'airfoils/data/c5a-data/6deg.csv', 'airfoils/data/c5a-data/16deg.csv', 'airfoils/data/c5a-data/3deg.csv', 'airfoils/data/c5a-data/7deg.csv', 'airfoils/data/c5a-data/-13deg.csv', 'airfoils/data/c5a-data/11deg.csv', 'airfoils/data/c5a-data/-19deg.csv', 'airfoils/data/c5a-data/-11deg.csv', 'airfoils/data/c5a-data/-17deg.csv', 'airfoils/data/c5a-data/-1deg.csv', 'airfoils/data/c5a-data/5deg.csv', 'airfoils/data/c5a-data/12deg.csv', 'airfoils/data/c5a-data/-3deg.csv', 'airfoils/data/c5a-data/-16deg.csv', 'airfoils/data/c5a-data/4deg.csv', 'airfoils/data/c5a-data/-10deg.csv', 'airfoils/data/c5a-data/20deg.csv', 'airfoils/data/c5a-data/19deg.csv', 'airfoils/data/c5a-data/-6deg.csv', 'airfoils/data/c5a-data/14deg.csv', 'airfoils/data/c5a-data/9deg.csv', 'airfoils/data/c5a-data/10deg.csv', 'airfoils/data/c5a-data/-18deg.csv', 'airfoils/data/c5a-data/15deg.csv', 'airfoils/data/c5a-data/17deg.csv', 'airfoils/data/c5a-data/18deg.csv', 'airfoils/data/c5a-data/-20deg.csv', 'airfoils/data/c5a-data/-4deg.csv', 'airfoils/data/c5a-data/13deg.csv', 'airfoils/data/c5a-data/-5deg.csv', 'airfoils/data/c5a-data/11a-deg.csv', 'airfoils/data/c5a-data/-8deg.csv', 'airfoils/data/c5a-data/-7deg.csv', 'airfoils/data/c5a-data/-12deg.csv', 'airfoils/data/c5a-data/8deg.csv']\n"
     ]
    }
   ],
   "source": [
    "import pandas as pd\n",
    "import glob\n",
    "path = 'airfoils/data/c5a-data' # use your path\n",
    "all_files = glob.glob(path + \"/*.csv\")\n",
    "print(all_files)\n",
    "li = []\n",
    "\n",
    "for filename in all_files:\n",
    "    cols = [\"ID\", \"Mach No\", \"Angle of Attack\", \"Lift Coefficient\", \"Drag Coefficient\"]\n",
    "    df = pd.read_csv(filename, sep=\",\", header=None, names=cols)\n",
    "    df = df.drop(df.index[[0,1,2,3,4,5,6]])\n",
    "    df = df.reset_index(drop=True)\n",
    "    li.append(df)\n",
    "\n",
    "c5a = pd.concat(li, axis=0, ignore_index=True)\n",
    "c5a.to_csv('c5a.csv')"
   ]
  },
  {
   "cell_type": "markdown",
   "id": "b5094c0f",
   "metadata": {},
   "source": [
    "## DFVLR"
   ]
  },
  {
   "cell_type": "code",
   "execution_count": 3,
   "id": "406f07d5",
   "metadata": {},
   "outputs": [
    {
     "name": "stdout",
     "output_type": "stream",
     "text": [
      "['airfoils/data/dfvlr/1deg.csv', 'airfoils/data/dfvlr/2deg.csv', 'airfoils/data/dfvlr/-2deg.csv', 'airfoils/data/dfvlr/-9deg.csv', 'airfoils/data/dfvlr/-14deg.csv', 'airfoils/data/dfvlr/-15deg.csv', 'airfoils/data/dfvlr/6deg.csv', 'airfoils/data/dfvlr/16deg.csv', 'airfoils/data/dfvlr/3deg.csv', 'airfoils/data/dfvlr/7deg.csv', 'airfoils/data/dfvlr/-13deg.csv', 'airfoils/data/dfvlr/11deg.csv', 'airfoils/data/dfvlr/-19deg.csv', 'airfoils/data/dfvlr/-11deg.csv', 'airfoils/data/dfvlr/-17deg.csv', 'airfoils/data/dfvlr/-1deg.csv', 'airfoils/data/dfvlr/5deg.csv', 'airfoils/data/dfvlr/12deg.csv', 'airfoils/data/dfvlr/-3deg.csv', 'airfoils/data/dfvlr/-16deg.csv', 'airfoils/data/dfvlr/4deg.csv', 'airfoils/data/dfvlr/-10deg.csv', 'airfoils/data/dfvlr/20deg.csv', 'airfoils/data/dfvlr/19deg.csv', 'airfoils/data/dfvlr/-6deg.csv', 'airfoils/data/dfvlr/14deg.csv', 'airfoils/data/dfvlr/9deg.csv', 'airfoils/data/dfvlr/10deg.csv', 'airfoils/data/dfvlr/-18deg.csv', 'airfoils/data/dfvlr/15deg.csv', 'airfoils/data/dfvlr/17deg.csv', 'airfoils/data/dfvlr/18deg.csv', 'airfoils/data/dfvlr/-20deg.csv', 'airfoils/data/dfvlr/-4deg.csv', 'airfoils/data/dfvlr/13deg.csv', 'airfoils/data/dfvlr/-5deg.csv', 'airfoils/data/dfvlr/-8deg.csv', 'airfoils/data/dfvlr/-7deg.csv', 'airfoils/data/dfvlr/-12deg.csv', 'airfoils/data/dfvlr/8deg.csv']\n"
     ]
    }
   ],
   "source": [
    "import pandas as pd\n",
    "import glob\n",
    "path = 'airfoils/data/dfvlr' # use your path\n",
    "all_files = glob.glob(path + \"/*.csv\")\n",
    "print(all_files)\n",
    "li = []\n",
    "\n",
    "for filename in all_files:\n",
    "    cols = [\"ID\", \"Mach No\", \"Angle of Attack\", \"Lift Coefficient\", \"Drag Coefficient\"]\n",
    "    df = pd.read_csv(filename, sep=\",\", header=None, names=cols)\n",
    "    df = df.drop(df.index[[0,1,2,3,4,5,6]])\n",
    "    df = df.reset_index(drop=True)\n",
    "    li.append(df)\n",
    "\n",
    "dflvr = pd.concat(li, axis=0, ignore_index=True)\n",
    "dflvr.to_csv('dfvlr.csv')"
   ]
  },
  {
   "cell_type": "markdown",
   "id": "0024cd4f",
   "metadata": {},
   "source": [
    "## GRUNMAN CSV"
   ]
  },
  {
   "cell_type": "code",
   "execution_count": 4,
   "id": "093108f0",
   "metadata": {},
   "outputs": [
    {
     "name": "stdout",
     "output_type": "stream",
     "text": [
      "['airfoils/data/grumman-data/1deg.csv', 'airfoils/data/grumman-data/2deg.csv', 'airfoils/data/grumman-data/-2deg.csv', 'airfoils/data/grumman-data/-14deg.csv', 'airfoils/data/grumman-data/-15deg.csv', 'airfoils/data/grumman-data/6deg.csv', 'airfoils/data/grumman-data/16deg.csv', 'airfoils/data/grumman-data/3deg.csv', 'airfoils/data/grumman-data/7deg.csv', 'airfoils/data/grumman-data/0deg.csv', 'airfoils/data/grumman-data/-19deg.csv', 'airfoils/data/grumman-data/-11deg.csv', 'airfoils/data/grumman-data/-17deg.csv', 'airfoils/data/grumman-data/-1deg.csv', 'airfoils/data/grumman-data/5deg.csv', 'airfoils/data/grumman-data/12deg.csv', 'airfoils/data/grumman-data/-3deg.csv', 'airfoils/data/grumman-data/-16deg.csv', 'airfoils/data/grumman-data/4deg.csv', 'airfoils/data/grumman-data/20deg.csv', 'airfoils/data/grumman-data/19deg.csv', 'airfoils/data/grumman-data/-6deg.csv', 'airfoils/data/grumman-data/14deg.csv', 'airfoils/data/grumman-data/-18deg.csv', 'airfoils/data/grumman-data/15deg.csv', 'airfoils/data/grumman-data/17deg.csv', 'airfoils/data/grumman-data/18deg.csv', 'airfoils/data/grumman-data/-20deg.csv', 'airfoils/data/grumman-data/-4deg.csv', 'airfoils/data/grumman-data/13deg.csv', 'airfoils/data/grumman-data/-5deg.csv', 'airfoils/data/grumman-data/-8deg.csv', 'airfoils/data/grumman-data/-7deg.csv', 'airfoils/data/grumman-data/-12deg.csv', 'airfoils/data/grumman-data/8deg.csv']\n"
     ]
    }
   ],
   "source": [
    "import pandas as pd\n",
    "import glob\n",
    "path = 'airfoils/data/grumman-data' # use your path\n",
    "all_files = glob.glob(path + \"/*.csv\")\n",
    "print(all_files)\n",
    "li = []\n",
    "\n",
    "for filename in all_files:\n",
    "    cols = [\"ID\", \"Mach No\", \"Angle of Attack\", \"Lift Coefficient\", \"Drag Coefficient\"]\n",
    "    df = pd.read_csv(filename, sep=\",\", header=None, names=cols)\n",
    "    df = df.drop(df.index[[0,1,2,3,4,5,6]])\n",
    "    df = df.reset_index(drop=True)\n",
    "    li.append(df)\n",
    "\n",
    "grumman_data = pd.concat(li, axis=0, ignore_index=True)\n",
    "grumman_data.to_csv('grunman.csv')#grumman-data"
   ]
  },
  {
   "cell_type": "markdown",
   "id": "165de7a4",
   "metadata": {},
   "source": [
    "## sc0412-data"
   ]
  },
  {
   "cell_type": "code",
   "execution_count": 5,
   "id": "02693a71",
   "metadata": {},
   "outputs": [
    {
     "name": "stdout",
     "output_type": "stream",
     "text": [
      "['airfoils/data/sc0412-data/1deg.csv', 'airfoils/data/sc0412-data/2deg.csv', 'airfoils/data/sc0412-data/-2deg.csv', 'airfoils/data/sc0412-data/-9deg.csv', 'airfoils/data/sc0412-data/-14deg.csv', 'airfoils/data/sc0412-data/-15deg.csv', 'airfoils/data/sc0412-data/6deg.csv', 'airfoils/data/sc0412-data/16deg.csv', 'airfoils/data/sc0412-data/3deg.csv', 'airfoils/data/sc0412-data/7deg.csv', 'airfoils/data/sc0412-data/-13deg.csv', 'airfoils/data/sc0412-data/11deg.csv', 'airfoils/data/sc0412-data/-19deg.csv', 'airfoils/data/sc0412-data/-11deg.csv', 'airfoils/data/sc0412-data/-17deg.csv', 'airfoils/data/sc0412-data/-1deg.csv', 'airfoils/data/sc0412-data/5deg.csv', 'airfoils/data/sc0412-data/12deg.csv', 'airfoils/data/sc0412-data/-3deg.csv', 'airfoils/data/sc0412-data/-16deg.csv', 'airfoils/data/sc0412-data/4deg.csv', 'airfoils/data/sc0412-data/-10deg.csv', 'airfoils/data/sc0412-data/20deg.csv', 'airfoils/data/sc0412-data/19deg.csv', 'airfoils/data/sc0412-data/-6deg.csv', 'airfoils/data/sc0412-data/14deg.csv', 'airfoils/data/sc0412-data/9deg.csv', 'airfoils/data/sc0412-data/10deg.csv', 'airfoils/data/sc0412-data/-18deg.csv', 'airfoils/data/sc0412-data/15deg.csv', 'airfoils/data/sc0412-data/17deg.csv', 'airfoils/data/sc0412-data/18deg.csv', 'airfoils/data/sc0412-data/-20deg.csv', 'airfoils/data/sc0412-data/-4deg.csv', 'airfoils/data/sc0412-data/13deg.csv', 'airfoils/data/sc0412-data/-5deg.csv', 'airfoils/data/sc0412-data/-8deg.csv', 'airfoils/data/sc0412-data/-7deg.csv', 'airfoils/data/sc0412-data/-12deg.csv', 'airfoils/data/sc0412-data/8deg.csv']\n"
     ]
    }
   ],
   "source": [
    "import pandas as pd\n",
    "import glob\n",
    "path = 'airfoils/data/sc0412-data' # use your path\n",
    "all_files = glob.glob(path + \"/*.csv\")\n",
    "print(all_files)\n",
    "li = []\n",
    "\n",
    "for filename in all_files:\n",
    "    cols = [\"ID\", \"Mach No\", \"Angle of Attack\", \"Lift Coefficient\", \"Drag Coefficient\"]\n",
    "    df = pd.read_csv(filename, sep=\",\", header=None, names=cols)\n",
    "    df = df.drop(df.index[[0,1,2,3,4,5,6]])\n",
    "    df = df.reset_index(drop=True)\n",
    "    li.append(df)\n",
    "\n",
    "sc0412_data = pd.concat(li, axis=0, ignore_index=True)\n",
    "sc0412_data.to_csv('sc0412-data.csv')#grumman-data"
   ]
  },
  {
   "cell_type": "markdown",
   "id": "74a23d5c",
   "metadata": {},
   "source": [
    "## kc135winglet-data"
   ]
  },
  {
   "cell_type": "code",
   "execution_count": 6,
   "id": "d3dc575a",
   "metadata": {},
   "outputs": [
    {
     "name": "stdout",
     "output_type": "stream",
     "text": [
      "['airfoils/data/kc135winglet-data/1deg.csv', 'airfoils/data/kc135winglet-data/2deg.csv', 'airfoils/data/kc135winglet-data/-2deg.csv', 'airfoils/data/kc135winglet-data/-9deg.csv', 'airfoils/data/kc135winglet-data/-14deg.csv', 'airfoils/data/kc135winglet-data/-15deg.csv', 'airfoils/data/kc135winglet-data/6deg.csv', 'airfoils/data/kc135winglet-data/16deg.csv', 'airfoils/data/kc135winglet-data/3deg.csv', 'airfoils/data/kc135winglet-data/7deg.csv', 'airfoils/data/kc135winglet-data/-13deg.csv', 'airfoils/data/kc135winglet-data/11deg.csv', 'airfoils/data/kc135winglet-data/-19deg.csv', 'airfoils/data/kc135winglet-data/-11deg.csv', 'airfoils/data/kc135winglet-data/-17deg.csv', 'airfoils/data/kc135winglet-data/-1deg.csv', 'airfoils/data/kc135winglet-data/5deg.csv', 'airfoils/data/kc135winglet-data/12deg.csv', 'airfoils/data/kc135winglet-data/-3deg.csv', 'airfoils/data/kc135winglet-data/-16deg.csv', 'airfoils/data/kc135winglet-data/4deg.csv', 'airfoils/data/kc135winglet-data/-10deg.csv', 'airfoils/data/kc135winglet-data/20deg.csv', 'airfoils/data/kc135winglet-data/19deg.csv', 'airfoils/data/kc135winglet-data/14deg.csv', 'airfoils/data/kc135winglet-data/9deg.csv', 'airfoils/data/kc135winglet-data/10deg.csv', 'airfoils/data/kc135winglet-data/-18deg.csv', 'airfoils/data/kc135winglet-data/15deg.csv', 'airfoils/data/kc135winglet-data/17deg.csv', 'airfoils/data/kc135winglet-data/18deg.csv', 'airfoils/data/kc135winglet-data/-20deg.csv', 'airfoils/data/kc135winglet-data/-4deg.csv', 'airfoils/data/kc135winglet-data/13deg.csv', 'airfoils/data/kc135winglet-data/-12deg.csv', 'airfoils/data/kc135winglet-data/8deg.csv']\n"
     ]
    }
   ],
   "source": [
    "import pandas as pd\n",
    "import glob\n",
    "path = 'airfoils/data/kc135winglet-data' # use your path\n",
    "all_files = glob.glob(path + \"/*.csv\")\n",
    "print(all_files)\n",
    "li = []\n",
    "\n",
    "for filename in all_files:\n",
    "    cols = [\"ID\", \"Mach No\", \"Angle of Attack\", \"Lift Coefficient\", \"Drag Coefficient\"]\n",
    "    df = pd.read_csv(filename, sep=\",\", header=None, names=cols)\n",
    "    df = df.drop(df.index[[0,1,2,3,4,5,6]])\n",
    "    df = df.reset_index(drop=True)\n",
    "    li.append(df)\n",
    "\n",
    "kc135winglet_data = pd.concat(li, axis=0, ignore_index=True)\n",
    "kc135winglet_data.to_csv('kc135winglet_data.csv')#grumman-data\n",
    "#kc135winglet-data"
   ]
  },
  {
   "cell_type": "markdown",
   "id": "3f0d2699",
   "metadata": {},
   "source": [
    "## RAE2822"
   ]
  },
  {
   "cell_type": "code",
   "execution_count": 7,
   "id": "b0e46938",
   "metadata": {
    "scrolled": true
   },
   "outputs": [
    {
     "name": "stdout",
     "output_type": "stream",
     "text": [
      "['airfoils/data/RAE2822/1deg.csv', 'airfoils/data/RAE2822/2deg.csv', 'airfoils/data/RAE2822/-2deg.csv', 'airfoils/data/RAE2822/-9deg.csv', 'airfoils/data/RAE2822/-14deg.csv', 'airfoils/data/RAE2822/-15deg.csv', 'airfoils/data/RAE2822/6deg.csv', 'airfoils/data/RAE2822/16deg.csv', 'airfoils/data/RAE2822/3deg.csv', 'airfoils/data/RAE2822/7deg.csv', 'airfoils/data/RAE2822/0deg.csv', 'airfoils/data/RAE2822/-13deg.csv', 'airfoils/data/RAE2822/11deg.csv', 'airfoils/data/RAE2822/-19deg.csv', 'airfoils/data/RAE2822/-11deg.csv', 'airfoils/data/RAE2822/-17deg.csv', 'airfoils/data/RAE2822/-1deg.csv', 'airfoils/data/RAE2822/5deg.csv', 'airfoils/data/RAE2822/12deg.csv', 'airfoils/data/RAE2822/-3deg.csv', 'airfoils/data/RAE2822/-16deg.csv', 'airfoils/data/RAE2822/4deg.csv', 'airfoils/data/RAE2822/20deg.csv', 'airfoils/data/RAE2822/19deg.csv', 'airfoils/data/RAE2822/13 deg.csv', 'airfoils/data/RAE2822/-6deg.csv', 'airfoils/data/RAE2822/14deg.csv', 'airfoils/data/RAE2822/-20.csv', 'airfoils/data/RAE2822/9deg.csv', 'airfoils/data/RAE2822/10deg.csv', 'airfoils/data/RAE2822/-18deg.csv', 'airfoils/data/RAE2822/-19 deg.csv', 'airfoils/data/RAE2822/15deg.csv', 'airfoils/data/RAE2822/17deg.csv', 'airfoils/data/RAE2822/18deg.csv', 'airfoils/data/RAE2822/-4deg.csv', 'airfoils/data/RAE2822/-5deg.csv', 'airfoils/data/RAE2822/-8deg.csv', 'airfoils/data/RAE2822/-7deg.csv', 'airfoils/data/RAE2822/-12deg.csv', 'airfoils/data/RAE2822/8deg.csv']\n"
     ]
    }
   ],
   "source": [
    "import pandas as pd\n",
    "import glob\n",
    "path = 'airfoils/data/RAE2822' # use your path\n",
    "all_files = glob.glob(path + \"/*.csv\")\n",
    "print(all_files)\n",
    "li = []\n",
    "\n",
    "for filename in all_files:\n",
    "    cols = [\"ID\", \"Mach No\", \"Angle of Attack\", \"Lift Coefficient\", \"Drag Coefficient\"]\n",
    "    df = pd.read_csv(filename, sep=\",\", header=None, names=cols)\n",
    "    df.drop([0,1,2,3,4,5,6], inplace=True)\n",
    "    df.dropna(inplace=True)\n",
    "    df = df.reset_index(drop=True)\n",
    "    li.append(df)\n",
    "\n",
    "RAE2822 = pd.concat(li, axis=0, ignore_index=True)\n",
    "RAE2822.to_csv('RAE2822.csv')#grumman-data\n",
    "#kc135winglet-data"
   ]
  },
  {
   "cell_type": "markdown",
   "id": "94395d84",
   "metadata": {},
   "source": [
    "## sc0612"
   ]
  },
  {
   "cell_type": "code",
   "execution_count": 8,
   "id": "b0e46938",
   "metadata": {
    "scrolled": true
   },
   "outputs": [
    {
     "name": "stdout",
     "output_type": "stream",
     "text": [
      "['airfoils/data/sc0612-data/1deg.csv', 'airfoils/data/sc0612-data/2deg.csv', 'airfoils/data/sc0612-data/-2deg.csv', 'airfoils/data/sc0612-data/-9deg.csv', 'airfoils/data/sc0612-data/-14deg.csv', 'airfoils/data/sc0612-data/-15deg.csv', 'airfoils/data/sc0612-data/6deg.csv', 'airfoils/data/sc0612-data/16deg.csv', 'airfoils/data/sc0612-data/3deg.csv', 'airfoils/data/sc0612-data/7deg.csv', 'airfoils/data/sc0612-data/3degb.csv', 'airfoils/data/sc0612-data/-13deg.csv', 'airfoils/data/sc0612-data/11deg.csv', 'airfoils/data/sc0612-data/-19deg.csv', 'airfoils/data/sc0612-data/-11deg.csv', 'airfoils/data/sc0612-data/-17deg.csv', 'airfoils/data/sc0612-data/-1deg.csv', 'airfoils/data/sc0612-data/-1degb.csv', 'airfoils/data/sc0612-data/5deg.csv', 'airfoils/data/sc0612-data/12deg.csv', 'airfoils/data/sc0612-data/-3deg.csv', 'airfoils/data/sc0612-data/-16deg.csv', 'airfoils/data/sc0612-data/4deg.csv', 'airfoils/data/sc0612-data/-10deg.csv', 'airfoils/data/sc0612-data/20deg.csv', 'airfoils/data/sc0612-data/19deg.csv', 'airfoils/data/sc0612-data/-6deg.csv', 'airfoils/data/sc0612-data/-3degb.csv', 'airfoils/data/sc0612-data/14deg.csv', 'airfoils/data/sc0612-data/9deg.csv', 'airfoils/data/sc0612-data/10deg.csv', 'airfoils/data/sc0612-data/2degb.csv', 'airfoils/data/sc0612-data/-18deg.csv', 'airfoils/data/sc0612-data/15deg.csv', 'airfoils/data/sc0612-data/17deg.csv', 'airfoils/data/sc0612-data/18deg.csv', 'airfoils/data/sc0612-data/1degb.csv', 'airfoils/data/sc0612-data/-20deg.csv', 'airfoils/data/sc0612-data/-4deg.csv', 'airfoils/data/sc0612-data/13deg.csv', 'airfoils/data/sc0612-data/-5deg.csv', 'airfoils/data/sc0612-data/-8deg.csv', 'airfoils/data/sc0612-data/-7deg.csv', 'airfoils/data/sc0612-data/-12deg.csv', 'airfoils/data/sc0612-data/-2degb.csv', 'airfoils/data/sc0612-data/8deg.csv']\n"
     ]
    }
   ],
   "source": [
    "import pandas as pd\n",
    "import glob\n",
    "path = 'airfoils/data/sc0612-data' # use your path\n",
    "all_files = glob.glob(path + \"/*.csv\")\n",
    "print(all_files)\n",
    "li = []\n",
    "\n",
    "for filename in all_files:\n",
    "    cols = [\"ID\", \"Mach No\", \"Angle of Attack\", \"Lift Coefficient\", \"Drag Coefficient\"]\n",
    "    df = pd.read_csv(filename, sep=\",\", header=None, names=cols)\n",
    "    df.drop([0,1,2,3,4,5,6], inplace=True)\n",
    "    df.dropna(inplace=True)\n",
    "    df = df.reset_index(drop=True)\n",
    "    li.append(df)\n",
    "\n",
    "sc0612_data = pd.concat(li, axis=0, ignore_index=True)\n",
    "sc0612_data.to_csv('sc0612-data.csv')#grumman-data\n",
    "#kc135winglet-data"
   ]
  },
  {
   "cell_type": "code",
   "execution_count": null,
   "id": "85c7b4e8",
   "metadata": {},
   "outputs": [],
   "source": []
  },
  {
   "cell_type": "code",
   "execution_count": null,
   "id": "7a019265",
   "metadata": {},
   "outputs": [],
   "source": []
  }
 ],
 "metadata": {
  "kernelspec": {
   "display_name": "Python 3",
   "language": "python",
   "name": "python3"
  },
  "language_info": {
   "codemirror_mode": {
    "name": "ipython",
    "version": 3
   },
   "file_extension": ".py",
   "mimetype": "text/x-python",
   "name": "python",
   "nbconvert_exporter": "python",
   "pygments_lexer": "ipython3",
   "version": "3.8.8"
  }
 },
 "nbformat": 4,
 "nbformat_minor": 5
}
