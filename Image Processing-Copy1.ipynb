{
 "cells": [
  {
   "cell_type": "code",
   "execution_count": 1,
   "id": "2aecb9d4",
   "metadata": {},
   "outputs": [],
   "source": [
    "import cv2\n",
    "import numpy as np\n",
    "import cv2\n",
    "import numpy as np\n",
    "import matplotlib.pyplot as plt\n",
    "\n",
    "image = cv2.imread('airfoil.jpg')\n",
    "gray = cv2.cvtColor(image, cv2.COLOR_BGR2GRAY)\n",
    "gray = cv2.GaussianBlur(gray, (3, 3), 0)\n",
    "edged = cv2.Canny(gray, 20, 100)\n",
    "cnts = cv2.findContours(edged.copy(), cv2.RETR_EXTERNAL, cv2.CHAIN_APPROX_SIMPLE)[0]"
   ]
  },
  {
   "cell_type": "code",
   "execution_count": 2,
   "id": "d8efc3c9",
   "metadata": {},
   "outputs": [
    {
     "data": {
      "text/plain": [
       "True"
      ]
     },
     "execution_count": 2,
     "metadata": {},
     "output_type": "execute_result"
    }
   ],
   "source": [
    "import cv2\n",
    "import numpy as np\n",
    "img_1 = np.zeros([128,128,1],dtype=np.uint8)\n",
    "img_1.fill(255)\n",
    "# or img[:] = 255\n",
    "cv2.imshow('Single Channel Window', img_1)\n",
    "cv2.waitKey(0)\n",
    "cv2.destroyAllWindows()\n",
    "cv2.imwrite(\"background.jpg\", img_1)"
   ]
  },
  {
   "cell_type": "code",
   "execution_count": 3,
   "id": "4710a002",
   "metadata": {},
   "outputs": [],
   "source": [
    "if len(cnts) > 0:\n",
    "    # grab the largest contour, then draw a mask for the pill\n",
    "    c = max(cnts, key=cv2.contourArea)\n",
    "    mask = np.zeros(gray.shape, dtype=\"uint8\")\n",
    "    cv2.drawContours(mask, [c], -1, 255, -1)\n",
    "    # compute its bounding box of pill, then extract the ROI,\n",
    "    # and apply the mask\n",
    "    (x, y, w, h) = cv2.boundingRect(c)\n",
    "    imageROI2 = image[y:y + h, x:x + w]\n",
    "    maskROI = mask[y:y + h, x:x + w]\n",
    "    imageROI = cv2.bitwise_and(imageROI2, imageROI2, mask=maskROI)"
   ]
  },
  {
   "cell_type": "code",
   "execution_count": 4,
   "id": "fe277b94",
   "metadata": {
    "scrolled": true
   },
   "outputs": [
    {
     "data": {
      "text/plain": [
       "<matplotlib.image.AxesImage at 0x7f551004c520>"
      ]
     },
     "execution_count": 4,
     "metadata": {},
     "output_type": "execute_result"
    },
    {
     "data": {
      "image/png": "[encoded data removed]",
      "text/plain": [
       "<Figure size 432x288 with 1 Axes>"
      ]
     },
     "metadata": {
      "needs_background": "light"
     },
     "output_type": "display_data"
    }
   ],
   "source": [
    "plt.imshow(imageROI)\n",
    "#plt.axis(\"off\");"
   ]
  },
  {
   "cell_type": "code",
   "execution_count": 5,
   "id": "f071e9c6",
   "metadata": {
    "scrolled": false
   },
   "outputs": [
    {
     "data": {
      "image/png": "[encoded data removed]",
      "text/plain": [
       "<Figure size 432x288 with 1 Axes>"
      ]
     },
     "metadata": {
      "needs_background": "light"
     },
     "output_type": "display_data"
    }
   ],
   "source": [
    "# Reading the image\n",
    "im = cv2.imread('airfoil.jpg')\n",
    "im2 = cv2.imread('output.png')\n",
    "# Converting image to grayscale\n",
    "imgray = cv2.cvtColor(im, cv2.COLOR_BGR2GRAY)\n",
    "\n",
    "# Thresholding and getting contours from the image\n",
    "ret, thresh = cv2.threshold(imgray, 127, 255, 0)\n",
    "contours, hierarchy = cv2.findContours(thresh, cv2.RETR_TREE, cv2.CHAIN_APPROX_SIMPLE)\n",
    "im_copy = im.copy()\n",
    "cv2.drawContours(im_copy, contours, 1, (255, 0, 0), 3)\n",
    "#plt.imshow(im_copy)\n",
    "#plt.axis(\"off\");\n",
    "\n",
    "def scale_contour(cnt, scale):\n",
    "    M = cv2.moments(cnt)\n",
    "    cx = int(M['m10']/M['m00'])\n",
    "    cy = int(M['m01']/M['m00'])\n",
    "\n",
    "    cnt_norm = cnt - [cx, cy]\n",
    "    cnt_scaled = cnt_norm * scale\n",
    "    cnt_scaled = cnt_scaled + [cx, cy]\n",
    "    cnt_scaled = cnt_scaled.astype(np.int32)\n",
    "\n",
    "    return cnt_scaled\n",
    "\n",
    "cnt_scaled = scale_contour(contours[1], 0.3)\n",
    "\n",
    "#cv2.drawContours(im2, contours, 1, (255, 0, 0), 3)\n",
    "cv2.drawContours(im2, [cnt_scaled], 0, (0, 0, 0), -1)\n",
    "plt.imshow(im2)\n",
    "plt.axis(\"off\");\n",
    "plt.savefig('airfoil2.jpg', bbox_inches='tight', pad_inches=0.01)"
   ]
  },
  {
   "cell_type": "markdown",
   "id": "62e59b0d",
   "metadata": {},
   "source": [
    "##### TRIAL 1 WORKS BUT DOSEN'T VARY THE ANGLE OF ATTACK"
   ]
  },
  {
   "cell_type": "code",
   "execution_count": 6,
   "id": "18de1f0c",
   "metadata": {},
   "outputs": [
    {
     "data": {
      "image/png": "[encoded data removed]",
      "text/plain": [
       "<Figure size 432x288 with 1 Axes>"
      ]
     },
     "metadata": {
      "needs_background": "light"
     },
     "output_type": "display_data"
    }
   ],
   "source": [
    "# Reading the image\n",
    "im = cv2.imread('airfoil.jpg')\n",
    "im2 = cv2.imread('output.png')\n",
    "#im2 = cv2.imread('output.png')\n",
    "# Converting image to grayscale\n",
    "imgray = cv2.cvtColor(im, cv2.COLOR_BGR2GRAY)\n",
    "\n",
    "# Thresholding and getting contours from the image\n",
    "ret, thresh = cv2.threshold(imgray, 127, 255, 0)\n",
    "contours, hierarchy = cv2.findContours(thresh, cv2.RETR_TREE, cv2.CHAIN_APPROX_SIMPLE)\n",
    "im_copy = im.copy()\n",
    "cv2.drawContours(im_copy, contours, 1, (255, 0, 0), 3)\n",
    "#plt.imshow(im_copy)\n",
    "#plt.axis(\"off\");\n",
    "\n",
    "def cart2pol(x, y):\n",
    "    theta = np.arctan2(y, x)\n",
    "    rho = np.hypot(x, y)\n",
    "    return theta, rho\n",
    "\n",
    "\n",
    "def pol2cart(theta, rho):\n",
    "    x = rho * np.cos(theta)\n",
    "    y = rho * np.sin(theta)\n",
    "    return x, y\n",
    "\n",
    "\n",
    "def rotate_contour(cnt, angle):\n",
    "    global M\n",
    "    M = cv2.moments(cnt)\n",
    "    cx = int(M['m10']/M['m00'])\n",
    "    cy = int(M['m01']/M['m00'])\n",
    "\n",
    "    cnt_norm = cnt - [cx, cy]\n",
    "    \n",
    "    coordinates = cnt_norm[:, 0, :]\n",
    "    xs, ys = coordinates[:, 0], coordinates[:, 1]\n",
    "    thetas, rhos = cart2pol(xs, ys)\n",
    "\n",
    "    thetas = np.rad2deg(thetas)\n",
    "    thetas = (thetas + angle) % 360\n",
    "    thetas = np.deg2rad(thetas)\n",
    "    \n",
    "    xs, ys = pol2cart(thetas, rhos)\n",
    "    \n",
    "    cnt_norm[:, 0, 0] = xs\n",
    "    cnt_norm[:, 0, 1] = ys\n",
    "\n",
    "    cnt_rotated = cnt_norm + [cx, cy]\n",
    "    cnt_rotated = cnt_rotated.astype(np.int32)\n",
    "\n",
    "    return cnt_rotated\n",
    "\n",
    "#cnt_rotated = rotate_contour(contours[0], 20)\n",
    "#im_copy = im.copy()\n",
    "#cnt_scaled = scale_contour(cnt_rotated, 0.3)\n",
    "#cv2.drawContours(im_copy, contours, 0, (255, 0, 0), 3)\n",
    "#cv2.drawContours(im_copy, [cnt_scaled], 0, (0, 0, 0), -1)\n",
    "#cv2.drawContours(im_copy, [cnt_rotated], 0, (0, 0, 0), -1)\n",
    "\n",
    "#plt.imshow(im_copy)\n",
    "#plt.axis(\"off\");\n",
    "\n",
    "cnt_scaled = scale_contour(contours[1], 0.7)\n",
    "cnt_rotated = rotate_contour(cnt_scaled, 20)\n",
    "cnt_translated = cnt_rotated + (-80,10)\n",
    "#cv2.drawContours(im2, contours, 1, (0, 0, 0), 3)\n",
    "cv2.drawContours(im2, [cnt_translated], 0, (0,0, 0), -1)\n",
    "plt.imshow(im2)\n",
    "plt.axis(\"off\");\n",
    "plt.savefig('airfoil3.jpg')"
   ]
  },
  {
   "cell_type": "markdown",
   "id": "0548aa50",
   "metadata": {},
   "source": [
    "##### ATTEMPT TO VARY THE ANGLE OF ATTACK"
   ]
  },
  {
   "cell_type": "code",
   "execution_count": 12,
   "id": "25cc6b6f",
   "metadata": {},
   "outputs": [
    {
     "data": {
      "image/png": "[encoded data removed]",
      "text/plain": [
       "<Figure size 432x288 with 1 Axes>"
      ]
     },
     "metadata": {
      "needs_background": "light"
     },
     "output_type": "display_data"
    }
   ],
   "source": [
    "# Reading the image\n",
    "im = cv2.imread('airfoil.jpg')\n",
    "im2 = cv2.imread('output.png')\n",
    "#im2 = cv2.imread('output.png')\n",
    "# Converting image to grayscale\n",
    "imgray = cv2.cvtColor(im, cv2.COLOR_BGR2GRAY)\n",
    "\n",
    "# Thresholding and getting contours from the image\n",
    "ret, thresh = cv2.threshold(imgray, 127, 255, 0)\n",
    "contours, hierarchy = cv2.findContours(thresh, cv2.RETR_TREE, cv2.CHAIN_APPROX_SIMPLE)\n",
    "im_copy = im.copy()\n",
    "cv2.drawContours(im_copy, contours, 1, (255, 0, 0), 3)\n",
    "#plt.imshow(im_copy)\n",
    "#plt.axis(\"off\");\n",
    "\n",
    "def cart2pol(x, y):\n",
    "    theta = np.arctan2(y, x)\n",
    "    rho = np.hypot(x, y)\n",
    "    return theta, rho\n",
    "\n",
    "\n",
    "def pol2cart(theta, rho):\n",
    "    x = rho * np.cos(theta)\n",
    "    y = rho * np.sin(theta)\n",
    "    return x, y\n",
    "\n",
    "\n",
    "def rotate_contour(cnt, angle):\n",
    "    global M\n",
    "    M = cv2.moments(cnt)\n",
    "    cx = int(M['m10']/M['m00'])\n",
    "    cy = int(M['m01']/M['m00'])\n",
    "\n",
    "    cnt_norm = cnt - [cx, cy]\n",
    "    \n",
    "    coordinates = cnt_norm[:, 0, :]\n",
    "    xs, ys = coordinates[:, 0], coordinates[:, 1]\n",
    "    thetas, rhos = cart2pol(xs, ys)\n",
    "\n",
    "    thetas = np.rad2deg(thetas)\n",
    "    thetas = (thetas + angle) % 360\n",
    "    thetas = np.deg2rad(thetas)\n",
    "    \n",
    "    xs, ys = pol2cart(thetas, rhos)\n",
    "    \n",
    "    cnt_norm[:, 0, 0] = xs\n",
    "    cnt_norm[:, 0, 1] = ys\n",
    "\n",
    "    cnt_rotated = cnt_norm + [cx, cy]\n",
    "    cnt_rotated = cnt_rotated.astype(np.int32)\n",
    "\n",
    "    return cnt_rotated\n",
    "\n",
    "#cnt_rotated = rotate_contour(contours[0], 20)\n",
    "#im_copy = im.copy()\n",
    "#cnt_scaled = scale_contour(cnt_rotated, 0.3)\n",
    "#cv2.drawContours(im_copy, contours, 0, (255, 0, 0), 3)\n",
    "#cv2.drawContours(im_copy, [cnt_scaled], 0, (0, 0, 0), -1)\n",
    "#cv2.drawContours(im_copy, [cnt_rotated], 0, (0, 0, 0), -1)\n",
    "\n",
    "#plt.imshow(im_copy)\n",
    "#plt.axis(\"off\");\n",
    "angle_of_attack = range(-20, 21)\n",
    "\n",
    "for i in angle_of_attack:\n",
    "    im2 = cv2.imread('output.png')\n",
    "    cnt_scaled = scale_contour(contours[1], 0.7)\n",
    "    cnt_rotated = rotate_contour(cnt_scaled, i)\n",
    "    cnt_translated = cnt_rotated + (-100,10)\n",
    "    #cv2.drawContours(im2, contours, 1, (0, 0, 0), 3)\n",
    "    cv2.drawContours(im2, [cnt_translated], 0, (0,0, 0), -1)\n",
    "    plt.imshow(im2)\n",
    "    plt.axis(\"off\");\n",
    "    plt.savefig('airfoils/airfoil' + str(i) + '.jpg')"
   ]
  },
  {
   "cell_type": "markdown",
   "id": "ee468005",
   "metadata": {},
   "source": [
    "## Kcwinglet-125"
   ]
  },
  {
   "cell_type": "code",
   "execution_count": 21,
   "id": "8df87cb8",
   "metadata": {},
   "outputs": [
    {
     "data": {
      "image/png": "[encoded data removed]",
      "text/plain": [
       "<Figure size 432x72 with 1 Axes>"
      ]
     },
     "metadata": {
      "needs_background": "light"
     },
     "output_type": "display_data"
    }
   ],
   "source": [
    "a = 'airfoils/kcwinglet-135/'\n",
    "import pandas as pd\n",
    "import numpy as np\n",
    "df=pd.read_csv('airfoils/kcwinglet-135/kc135winglet.dat', sep='\\s+',header=None)\n",
    "x = np.array(df[0])\n",
    "y = np.array(df[1])\n",
    "import matplotlib.pyplot as plt\n",
    "from matplotlib import transforms\n",
    "\n",
    "#coord = df.values\n",
    "#create lists of x and y values\n",
    "plt.figure(figsize=(6, 1))\n",
    "plt.fill(x,y, \"black\")\n",
    "plt.axis('off')\n",
    "\n",
    "plt.savefig(a + 'kcwinglet-135'+'.jpg', bbox_inches='tight', pad_inches=1, dpi=100)\n",
    "#plt.figure()\n",
    "#plt.plot(xs,ys) \n",
    "#plt.show() # if you need..."
   ]
  },
  {
   "cell_type": "code",
   "execution_count": 23,
   "id": "e99c651e",
   "metadata": {},
   "outputs": [
    {
     "data": {
      "image/png": "[encoded data removed]",
      "text/plain": [
       "<Figure size 432x288 with 1 Axes>"
      ]
     },
     "metadata": {
      "needs_background": "light"
     },
     "output_type": "display_data"
    }
   ],
   "source": [
    "#varying angles of attack\n",
    "# Reading the image\n",
    "im = cv2.imread(a + 'kcwinglet-135.jpg')\n",
    "im2 = cv2.imread('output.png')\n",
    "#im2 = cv2.imread('output.png')\n",
    "# Converting image to grayscale\n",
    "imgray = cv2.cvtColor(im, cv2.COLOR_BGR2GRAY)\n",
    "\n",
    "# Thresholding and getting contours from the image\n",
    "ret, thresh = cv2.threshold(imgray, 127, 255, 0)\n",
    "contours, hierarchy = cv2.findContours(thresh, cv2.RETR_TREE, cv2.CHAIN_APPROX_SIMPLE)\n",
    "im_copy = im.copy()\n",
    "cv2.drawContours(im_copy, contours, 1, (255, 0, 0), 3)\n",
    "#plt.imshow(im_copy)\n",
    "#plt.axis(\"off\");\n",
    "\n",
    "def cart2pol(x, y):\n",
    "    theta = np.arctan2(y, x)\n",
    "    rho = np.hypot(x, y)\n",
    "    return theta, rho\n",
    "\n",
    "\n",
    "def pol2cart(theta, rho):\n",
    "    x = rho * np.cos(theta)\n",
    "    y = rho * np.sin(theta)\n",
    "    return x, y\n",
    "\n",
    "\n",
    "def rotate_contour(cnt, angle):\n",
    "    global M\n",
    "    M = cv2.moments(cnt)\n",
    "    cx = int(M['m10']/M['m00'])\n",
    "    cy = int(M['m01']/M['m00'])\n",
    "\n",
    "    cnt_norm = cnt - [cx, cy]\n",
    "    \n",
    "    coordinates = cnt_norm[:, 0, :]\n",
    "    xs, ys = coordinates[:, 0], coordinates[:, 1]\n",
    "    thetas, rhos = cart2pol(xs, ys)\n",
    "\n",
    "    thetas = np.rad2deg(thetas)\n",
    "    thetas = (thetas + angle) % 360\n",
    "    thetas = np.deg2rad(thetas)\n",
    "    \n",
    "    xs, ys = pol2cart(thetas, rhos)\n",
    "    \n",
    "    cnt_norm[:, 0, 0] = xs\n",
    "    cnt_norm[:, 0, 1] = ys\n",
    "\n",
    "    cnt_rotated = cnt_norm + [cx, cy]\n",
    "    cnt_rotated = cnt_rotated.astype(np.int32)\n",
    "\n",
    "    return cnt_rotated\n",
    "\n",
    "#cnt_rotated = rotate_contour(contours[0], 20)\n",
    "#im_copy = im.copy()\n",
    "#cnt_scaled = scale_contour(cnt_rotated, 0.3)\n",
    "#cv2.drawContours(im_copy, contours, 0, (255, 0, 0), 3)\n",
    "#cv2.drawContours(im_copy, [cnt_scaled], 0, (0, 0, 0), -1)\n",
    "#cv2.drawContours(im_copy, [cnt_rotated], 0, (0, 0, 0), -1)\n",
    "\n",
    "#plt.imshow(im_copy)\n",
    "#plt.axis(\"off\");\n",
    "angle_of_attack = range(-20, 21)\n",
    "\n",
    "for i in angle_of_attack:\n",
    "    im2 = cv2.imread('output.png')\n",
    "    cnt_scaled = scale_contour(contours[1], 0.7)\n",
    "    cnt_rotated = rotate_contour(cnt_scaled, i)\n",
    "    cnt_translated = cnt_rotated + (-100,10)\n",
    "    #cv2.drawContours(im2, contours, 1, (0, 0, 0), 3)\n",
    "    cv2.drawContours(im2, [cnt_translated], 0, (0,0, 0), -1)\n",
    "    plt.imshow(im2)\n",
    "    plt.axis(\"off\");\n",
    "    plt.savefig('airfoils/kcwinglet-135/AOA/kcwinglet-135' + '-AOA-' + str(i) + '.jpg')"
   ]
  },
  {
   "cell_type": "code",
   "execution_count": null,
   "id": "c6899db2",
   "metadata": {},
   "outputs": [],
   "source": []
  }
 ],
 "metadata": {
  "kernelspec": {
   "display_name": "Python 3",
   "language": "python",
   "name": "python3"
  },
  "language_info": {
   "codemirror_mode": {
    "name": "ipython",
    "version": 3
   },
   "file_extension": ".py",
   "mimetype": "text/x-python",
   "name": "python",
   "nbconvert_exporter": "python",
   "pygments_lexer": "ipython3",
   "version": "3.8.8"
  }
 },
 "nbformat": 4,
 "nbformat_minor": 5
}
