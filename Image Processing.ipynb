{
 "cells": [
  {
   "cell_type": "code",
   "execution_count": 1,
   "id": "4b251663",
   "metadata": {},
   "outputs": [],
   "source": [
    "import pandas as pd\n",
    "import numpy as np\n",
    "df=pd.read_csv('seligdatfile.csv', sep='\\s+',header=None)"
   ]
  },
  {
   "cell_type": "code",
   "execution_count": 2,
   "id": "af2ebdb3",
   "metadata": {},
   "outputs": [],
   "source": [
    "#numb = np.rot90(df, axes=(1, 1))"
   ]
  },
  {
   "cell_type": "code",
   "execution_count": 3,
   "id": "30ee5272",
   "metadata": {},
   "outputs": [],
   "source": [
    "x = np.array(df[0])\n",
    "y = np.array(df[1])"
   ]
  },
  {
   "cell_type": "code",
   "execution_count": 4,
   "id": "303df3a2",
   "metadata": {},
   "outputs": [
    {
     "data": {
      "image/png": "[encoded data removed]",
      "text/plain": [
       "<Figure size 432x72 with 1 Axes>"
      ]
     },
     "metadata": {
      "needs_background": "light"
     },
     "output_type": "display_data"
    }
   ],
   "source": [
    "import matplotlib.pyplot as plt\n",
    "from matplotlib import transforms\n",
    "\n",
    "#coord = df.values\n",
    "#create lists of x and y values\n",
    "plt.figure(figsize=(6, 1))\n",
    "plt.fill(x,y, \"black\")\n",
    "plt.axis('off')\n",
    "\n",
    "plt.savefig('airfoil.jpg', bbox_inches='tight', pad_inches=1, dpi=100)\n",
    "#plt.figure()\n",
    "#plt.plot(xs,ys) \n",
    "#plt.show() # if you need..."
   ]
  },
  {
   "cell_type": "code",
   "execution_count": 5,
   "id": "5842d40f",
   "metadata": {},
   "outputs": [
    {
     "data": {
      "image/png": "[encoded data removed]",
      "text/plain": [
       "<Figure size 432x72 with 1 Axes>"
      ]
     },
     "metadata": {
      "needs_background": "light"
     },
     "output_type": "display_data"
    }
   ],
   "source": [
    "import matplotlib.pyplot as plt\n",
    "from matplotlib import transforms\n",
    "\n",
    "coord = df.values\n",
    "#create lists of x and y values\n",
    "plt.figure(figsize=(6, 1))\n",
    "plt.fill(x,y, \"black\")\n",
    "plt.axis('off')\n",
    "\n",
    "plt.savefig('airfoil.png', bbox_inches='tight', pad_inches=1, dpi=100, transparent=True)\n",
    "#plt.figure()\n",
    "#plt.plot(xs,ys) \n",
    "#plt.show() # if you need..."
   ]
  },
  {
   "cell_type": "code",
   "execution_count": 6,
   "id": "bda33689",
   "metadata": {},
   "outputs": [],
   "source": [
    "#cv2.imshow(\"Rotated (Correct)\", edged)"
   ]
  },
  {
   "cell_type": "code",
   "execution_count": 7,
   "id": "0fe04929",
   "metadata": {
    "scrolled": true
   },
   "outputs": [
    {
     "data": {
      "image/png": "[encoded data removed]",
      "text/plain": [
       "<Figure size 432x288 with 1 Axes>"
      ]
     },
     "metadata": {
      "needs_background": "light"
     },
     "output_type": "display_data"
    }
   ],
   "source": [
    "import cv2\n",
    "import numpy as np\n",
    "\n",
    "import matplotlib.pyplot as plt\n",
    "\n",
    "# Reading the image\n",
    "im = cv2.imread('airfoil.jpg')\n",
    "\n",
    "# Converting image to grayscale\n",
    "imgray = cv2.cvtColor(im, cv2.COLOR_BGR2GRAY)\n",
    "\n",
    "# Thresholding and getting contours from the image\n",
    "ret, thresh = cv2.threshold(imgray, 127, 255, 1)\n",
    "contours, hierarchy = cv2.findContours(thresh, cv2.RETR_TREE, cv2.CHAIN_APPROX_SIMPLE)\n",
    "im_copy = im.copy()\n",
    "cv2.drawContours(im_copy, contours, 0, (255, 0, 0), 3)\n",
    "plt.imshow(im_copy)\n",
    "plt.axis(\"off\");"
   ]
  },
  {
   "cell_type": "code",
   "execution_count": 8,
   "id": "7f7708fc",
   "metadata": {},
   "outputs": [],
   "source": [
    "def scale_contour(cnt, scale):\n",
    "    M = cv2.moments(cnt)\n",
    "    cx = int(M['m10']/M['m00'])\n",
    "    cy = int(M['m01']/M['m00'])\n",
    "\n",
    "    cnt_norm = cnt - [cx, cy]\n",
    "    cnt_scaled = cnt_norm * scale\n",
    "    cnt_scaled = cnt_scaled + [cx, cy]\n",
    "    cnt_scaled = cnt_scaled.astype(np.int32)\n",
    "\n",
    "    return cnt_scaled"
   ]
  },
  {
   "cell_type": "code",
   "execution_count": 56,
   "id": "577a6e23",
   "metadata": {
    "scrolled": true
   },
   "outputs": [
    {
     "data": {
      "text/plain": [
       "<matplotlib.image.AxesImage at 0x7f943e9b5640>"
      ]
     },
     "execution_count": 56,
     "metadata": {},
     "output_type": "execute_result"
    },
    {
     "data": {
      "image/png": "[encoded data removed]",
      "text/plain": [
       "<Figure size 432x288 with 1 Axes>"
      ]
     },
     "metadata": {
      "needs_background": "light"
     },
     "output_type": "display_data"
    }
   ],
   "source": [
    "cnt_scaled = scale_contour(contours[0], 0.5)\n",
    "\n",
    "im_copy = im.copy()\n",
    "cv2.drawContours(im_copy, contours, 0, (255, 0, 0), 3)\n",
    "cv2.drawContours(im_copy, [cnt_scaled], 0, (0, 255, 0), 3)\n",
    "\n",
    "plt.imshow(im_copy)\n",
    "#plt.axis(\"off\");"
   ]
  },
  {
   "cell_type": "code",
   "execution_count": 53,
   "id": "480688e3",
   "metadata": {},
   "outputs": [
    {
     "data": {
      "image/png": "[encoded data removed]",
      "text/plain": [
       "<Figure size 432x288 with 1 Axes>"
      ]
     },
     "metadata": {
      "needs_background": "light"
     },
     "output_type": "display_data"
    }
   ],
   "source": [
    "def cart2pol(x, y):\n",
    "    theta = np.arctan2(y, x)\n",
    "    rho = np.hypot(x, y)\n",
    "    return theta, rho\n",
    "\n",
    "\n",
    "def pol2cart(theta, rho):\n",
    "    x = rho * np.cos(theta)\n",
    "    y = rho * np.sin(theta)\n",
    "    return x, y\n",
    "\n",
    "\n",
    "def rotate_contour(cnt, angle):\n",
    "    global M\n",
    "    M = cv2.moments(cnt)\n",
    "    cx = int(M['m10']/M['m00'])\n",
    "    cy = int(M['m01']/M['m00'])\n",
    "\n",
    "    cnt_norm = cnt - [cx, cy]\n",
    "    \n",
    "    coordinates = cnt_norm[:, 0, :]\n",
    "    xs, ys = coordinates[:, 0], coordinates[:, 1]\n",
    "    thetas, rhos = cart2pol(xs, ys)\n",
    "\n",
    "    thetas = np.rad2deg(thetas)\n",
    "    thetas = (thetas + angle) % 360\n",
    "    thetas = np.deg2rad(thetas)\n",
    "    \n",
    "    xs, ys = pol2cart(thetas, rhos)\n",
    "    \n",
    "    cnt_norm[:, 0, 0] = xs\n",
    "    cnt_norm[:, 0, 1] = ys\n",
    "\n",
    "    cnt_rotated = cnt_norm + [cx, cy]\n",
    "    cnt_rotated = cnt_rotated.astype(np.int32)\n",
    "\n",
    "    return cnt_rotated\n",
    "\n",
    "cnt_rotated = rotate_contour(contours[0], 20)\n",
    "im_copy = im.copy()\n",
    "cnt_scaled = scale_contour(cnt_rotated, 0.3)\n",
    "cv2.drawContours(im_copy, contours, 0, (255, 0, 0), 3)\n",
    "cv2.drawContours(im_copy, [cnt_scaled], 0, (0, 0, 0), -1)\n",
    "cv2.drawContours(im_copy, [cnt_rotated], 0, (0, 0, 0), -1)\n",
    "\n",
    "plt.imshow(im_copy)\n",
    "plt.axis(\"off\");"
   ]
  },
  {
   "cell_type": "code",
   "execution_count": 11,
   "id": "0cd0485b",
   "metadata": {},
   "outputs": [
    {
     "data": {
      "text/plain": [
       "<matplotlib.image.AxesImage at 0x7f943ea991f0>"
      ]
     },
     "execution_count": 11,
     "metadata": {},
     "output_type": "execute_result"
    },
    {
     "data": {
      "image/png": "[encoded data removed]",
      "text/plain": [
       "<Figure size 432x288 with 1 Axes>"
      ]
     },
     "metadata": {
      "needs_background": "light"
     },
     "output_type": "display_data"
    }
   ],
   "source": [
    "cnt_rotated = rotate_contour(contours[0], 90)\n",
    "im_copy = im.copy()\n",
    "cv2.drawContours(im_copy, contours, 0, (255, 0, 0), 3)\n",
    "cv2.drawContours(im_copy, [cnt_rotated], 0, (0, 255, 0), 3)\n",
    "plt.imshow(im_copy)\n",
    "#plt.axis(\"off\");"
   ]
  },
  {
   "cell_type": "code",
   "execution_count": null,
   "id": "0de23c6e",
   "metadata": {},
   "outputs": [],
   "source": []
  },
  {
   "cell_type": "code",
   "execution_count": 47,
   "id": "2b051732",
   "metadata": {},
   "outputs": [
    {
     "data": {
      "image/png": "[encoded data removed]",
      "text/plain": [
       "<Figure size 432x288 with 1 Axes>"
      ]
     },
     "metadata": {
      "needs_background": "light"
     },
     "output_type": "display_data"
    }
   ],
   "source": [
    "im_copy = im.copy()\n",
    "cv2.drawContours(im_copy, contours, 0, (255, 0, 0), 3)\n",
    "\n",
    "for i in range(20):\n",
    "    \n",
    "    cnt_rotated = rotate_contour(contours[0], np.random.random() * 90)\n",
    "    cnt_scaled = scale_contour(cnt_rotated, np.random.random() * 0.5)\n",
    "    \n",
    "    r, g, b = [int(np.random.choice(range(255))) for _ in range(3)]\n",
    "    cv2.drawContours(im_copy, [cnt_scaled], 0, (0, 0, 0), -1)\n",
    "    cv2.drawContours(im_copy, [cnt_rotated], 0, (0, 0, 0), -1)\n",
    "\n",
    "plt.imshow(im_copy)\n",
    "plt.axis(\"off\");"
   ]
  },
  {
   "cell_type": "code",
   "execution_count": 1,
   "id": "c80f95a6",
   "metadata": {},
   "outputs": [],
   "source": [
    "import numpy as np\n",
    "import pandas\n",
    "import glob\n",
    "import os\n",
    "import skimage.io\n",
    "import scipy.io"
   ]
  },
  {
   "cell_type": "code",
   "execution_count": 3,
   "id": "f0ae1f76",
   "metadata": {},
   "outputs": [],
   "source": [
    "route= glob.glob(r'./test_data/labels/*.csv')\n",
    "route_label_list = [os.path.basename(x)[:-4] for x in route]\n",
    "label = []\n",
    "for route_label in route_label_list:\n",
    "    a = pandas.read_csv('./test_data/labels/'+route_label+'.csv',delimiter=',')\n",
    "    data = a.values\n",
    "    print(a)"
   ]
  },
  {
   "cell_type": "code",
   "execution_count": null,
   "id": "b0b1ca73",
   "metadata": {},
   "outputs": [],
   "source": []
  }
 ],
 "metadata": {
  "kernelspec": {
   "display_name": "Python 3",
   "language": "python",
   "name": "python3"
  },
  "language_info": {
   "codemirror_mode": {
    "name": "ipython",
    "version": 3
   },
   "file_extension": ".py",
   "mimetype": "text/x-python",
   "name": "python",
   "nbconvert_exporter": "python",
   "pygments_lexer": "ipython3",
   "version": "3.8.8"
  }
 },
 "nbformat": 4,
 "nbformat_minor": 5
}
